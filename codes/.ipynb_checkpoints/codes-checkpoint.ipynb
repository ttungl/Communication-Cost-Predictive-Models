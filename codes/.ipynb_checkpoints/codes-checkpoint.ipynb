{
 "cells": [
  {
   "cell_type": "code",
   "execution_count": 1,
   "metadata": {
    "collapsed": true
   },
   "outputs": [],
   "source": [
    "### Process dataset\n",
    "from sklearn.model_selection import train_test_split\n",
    "from sklearn.preprocessing import StandardScaler\n",
    "from sklearn import metrics\n",
    "\n",
    "import matplotlib.pyplot as plt\n",
    "import numpy as np \n",
    "import seaborn as sns\n",
    "import pandas as pd\n",
    "\n",
    "%matplotlib inline"
   ]
  },
  {
   "cell_type": "code",
   "execution_count": 2,
   "metadata": {},
   "outputs": [
    {
     "data": {
      "image/png": "[encoded data removed]",
      "text/plain": [
       "<matplotlib.figure.Figure at 0x11bed05f8>"
      ]
     },
     "metadata": {},
     "output_type": "display_data"
    }
   ],
   "source": [
    "data = pd.read_csv('data/mixed_data.txt', sep=\",\", header=None)\n",
    "df = pd.DataFrame(data)\n",
    "X = df[df.columns[:5]]\n",
    "y = df[df.columns[5]]\n",
    "\n",
    "plt.figure(figsize=(15, 4))\n",
    "features = ['Traffic', '#Subnets', '#Cores', 'ShortLink_BW', 'LongLink_BW', '#LongLinks Utilization']\n",
    "for i, col in enumerate(df.columns):\n",
    "    plt.subplot(1, 6, i+1)\n",
    "    plt.plot(data[col], y, 'o')\n",
    "    plt.xlabel(features[col])\n",
    "    if i==0:\n",
    "        plt.ylabel('Cost')\n",
    "        plt.title(\"Input Features\")\n"
   ]
  },
  {
   "cell_type": "code",
   "execution_count": 3,
   "metadata": {},
   "outputs": [
    {
     "name": "stdout",
     "output_type": "stream",
     "text": [
      "Min cost:  1\n",
      "Max cost:  16\n",
      "Mean cost:  7.777777777777778\n",
      "Median cost:  5.0\n",
      "Std cost:  5.597177419175525\n",
      "#\n",
      "Min traffic:  321\n",
      "Max traffic:  7377\n",
      "Mean traffic:  3417.8888888888887\n",
      "Median traffic:  1822.0\n",
      "Std traffic:  2990.1545573002095\n"
     ]
    }
   ],
   "source": [
    "min_cost = np.min(y)\n",
    "max_cost = np.max(y)\n",
    "mean_cost = np.mean(y)\n",
    "median_cost = np.median(y)\n",
    "std_cost = np.std(y)\n",
    "\n",
    "min_traffic = np.min(X[0])\n",
    "max_traffic = np.max(X[0])\n",
    "mean_traffic = np.mean(X[0])\n",
    "median_traffic = np.median(X[0])\n",
    "std_traffic = np.std(X[0])\n",
    "\n",
    "print('Min cost: ', min_cost)\n",
    "print('Max cost: ', max_cost)\n",
    "print('Mean cost: ', mean_cost)\n",
    "print('Median cost: ', median_cost)\n",
    "print('Std cost: ', std_cost)\n",
    "print('#')\n",
    "print('Min traffic: ', min_traffic)\n",
    "print('Max traffic: ', max_traffic)\n",
    "print('Mean traffic: ', mean_traffic)\n",
    "print('Median traffic: ', median_traffic)\n",
    "print('Std traffic: ', std_traffic)\n"
   ]
  },
  {
   "cell_type": "code",
   "execution_count": 4,
   "metadata": {
    "collapsed": true
   },
   "outputs": [],
   "source": [
    "\"\"\"Calculating the coefficient of determination, R2, \n",
    "to quantify your model's performance. The coefficient of determination \n",
    "for a model is a useful statistic in regression analysis, \n",
    "as it often describes how \"good\" that model is at making predictions.\n",
    "\n",
    "The values for R2 range from 0 to 1, which captures the percentage of \n",
    "squared correlation between the predicted and actual values of the \n",
    "target variable. A model with an R2 of 0 is no better than a model \n",
    "that always predicts the mean of the target variable, whereas a model \n",
    "with an R2 of 1 perfectly predicts the target variable. \n",
    "Any value between 0 and 1 indicates what percentage of the \n",
    "target variable, using this model, can be explained by the features.\n",
    "A model can be given a negative R2 as well, which indicates that \n",
    "the model is arbitrarily worse than one that always predicts \n",
    "the mean of the target variable.\"\"\"\n",
    "\n",
    "from sklearn.metrics import r2_score\n",
    "def performance_metric(y_true, y_predict):\n",
    "    \"\"\" Calculates and returns the performance score between \n",
    "        true and predicted values based on the metric chosen. \"\"\"\n",
    "    score = r2_score(y_true, y_predict)\n",
    "    return score\n"
   ]
  },
  {
   "cell_type": "code",
   "execution_count": 5,
   "metadata": {},
   "outputs": [
    {
     "name": "stdout",
     "output_type": "stream",
     "text": [
      "       0   1   2   3   4\n",
      "6   7337   2  64  40  80\n",
      "17   481   4  64   1   2\n",
      "19   351   2  64   1   2\n",
      "29   593   2  64   1   2\n",
      "38   321   2  64   1   2\n",
      "44   807  16  64   1   2\n",
      "5   6886   2  64  40  80\n",
      "25   481  16  64   1   2\n",
      "27  1822   2  64  40  80\n",
      "6      5\n",
      "17     3\n",
      "19     1\n",
      "29     1\n",
      "38     1\n",
      "44    16\n",
      "5      5\n",
      "25    15\n",
      "27     1\n",
      "Name: 5, dtype: int64\n"
     ]
    }
   ],
   "source": [
    "# data normalization http://scikit-learn.org/stable/modules/preprocessing.html\n",
    "# Shuffle and split the data into training and testing subsets\n",
    "X_train, X_test, y_train, y_test = train_test_split(X, y, test_size=0.2, random_state=100)\n",
    "print(X_test)\n",
    "print(y_test)\n",
    "\n",
    "scaler = StandardScaler().fit(X_train)\n",
    "X_train = scaler.transform(X_train)\n",
    "\n",
    "# scaler1 = StandardScaler().fit(X_test)\n",
    "X_test = scaler.transform(X_test)\n"
   ]
  },
  {
   "cell_type": "code",
   "execution_count": 6,
   "metadata": {},
   "outputs": [
    {
     "name": "stdout",
     "output_type": "stream",
     "text": [
      "DecisionTree Regressor\n"
     ]
    },
    {
     "name": "stderr",
     "output_type": "stream",
     "text": [
      "/Users/tungthanhle/miniconda3/envs/carnd-term1/lib/python3.5/site-packages/sklearn/cross_validation.py:44: DeprecationWarning: This module was deprecated in version 0.18 in favor of the model_selection module into which all the refactored classes and functions are moved. Also note that the interface of the new CV iterators are different from that of this module. This module will be removed in 0.20.\n",
      "  \"This module will be removed in 0.20.\", DeprecationWarning)\n"
     ]
    },
    {
     "name": "stdout",
     "output_type": "stream",
     "text": [
      "train acc:  0.9937143459217003\n",
      "test acc:  0.9912443310657595\n",
      "[[ 1.21025933 -0.94250988  0.          0.84515425  0.84515425]\n",
      " [-1.09806769 -0.61936364  0.         -1.18321596 -1.18321596]\n",
      " [-1.14183702 -0.94250988  0.         -1.18321596 -1.18321596]\n",
      " [-1.06035873 -0.94250988  0.         -1.18321596 -1.18321596]\n",
      " [-1.15193763 -0.94250988  0.         -1.18321596 -1.18321596]\n",
      " [-0.98830769  1.31951383  0.         -1.18321596 -1.18321596]\n",
      " [ 1.05841343 -0.94250988  0.          0.84515425  0.84515425]\n",
      " [-1.09806769  1.31951383  0.         -1.18321596 -1.18321596]\n",
      " [-0.64657024 -0.94250988  0.          0.84515425  0.84515425]]\n",
      "[ 5.          3.28571429  1.6         1.6         1.6        15.\n",
      "  5.         15.          1.6       ]\n",
      "R^2 score:  0.9912443310657596\n"
     ]
    }
   ],
   "source": [
    "# cross-validation \n",
    "from sklearn.model_selection import GridSearchCV\n",
    "from sklearn.cross_validation import ShuffleSplit, StratifiedKFold\n",
    "from sklearn.metrics import make_scorer\n",
    "from sklearn.ensemble import RandomForestClassifier\n",
    "from sklearn.tree import DecisionTreeRegressor\n",
    "from sklearn import linear_model\n",
    "\n",
    "from sklearn.model_selection import KFold\n",
    "\n",
    "# DecisionTreeRegressor\n",
    "print('DecisionTree Regressor')\n",
    "def fit_model_dt(X, y):\n",
    "    cv_sets = KFold(n_splits=10)\n",
    "    regressor = DecisionTreeRegressor(random_state=0)\n",
    "    params = {'max_depth' : range(1,10)}\n",
    "    scoring_fnc = make_scorer(performance_metric)\n",
    "    grid = GridSearchCV(estimator = regressor, param_grid = params, scoring = scoring_fnc, cv = cv_sets)\n",
    "    grid = grid.fit(X, y)\n",
    "    return grid.best_estimator_\n",
    "\n",
    "clf_dt = fit_model_dt(X_train, y_train)\n",
    "train_acc_dt = clf_dt.score(X_train, y_train)\n",
    "test_acc_dt = clf_dt.score(X_test, y_test)\n",
    "y_pred_dt = clf_dt.predict(X_test)\n",
    "print('train acc: ', train_acc_dt)\n",
    "print('test acc: ', test_acc_dt)\n",
    "print(X_test)\n",
    "print(y_pred_dt)\n",
    "print('R^2 score: ', performance_metric(y_test, y_pred_dt))\n"
   ]
  },
  {
   "cell_type": "code",
   "execution_count": 7,
   "metadata": {},
   "outputs": [
    {
     "name": "stdout",
     "output_type": "stream",
     "text": [
      "RandomForest Classifier\n",
      "train acc:  0.9722222222222222\n",
      "test acc:  0.7777777777777778\n",
      "[[ 1.21025933 -0.94250988  0.          0.84515425  0.84515425]\n",
      " [-1.09806769 -0.61936364  0.         -1.18321596 -1.18321596]\n",
      " [-1.14183702 -0.94250988  0.         -1.18321596 -1.18321596]\n",
      " [-1.06035873 -0.94250988  0.         -1.18321596 -1.18321596]\n",
      " [-1.15193763 -0.94250988  0.         -1.18321596 -1.18321596]\n",
      " [-0.98830769  1.31951383  0.         -1.18321596 -1.18321596]\n",
      " [ 1.05841343 -0.94250988  0.          0.84515425  0.84515425]\n",
      " [-1.09806769  1.31951383  0.         -1.18321596 -1.18321596]\n",
      " [-0.64657024 -0.94250988  0.          0.84515425  0.84515425]]\n",
      "[ 5  3  1  1  1 15  5 15  3]\n",
      "R^2 score:  0.9826388888888888\n"
     ]
    }
   ],
   "source": [
    "# RandomForestClassifier\n",
    "print('RandomForest Classifier')\n",
    "def fit_model_rf(X, y):\n",
    "    cv_sets = KFold(n_splits=10)\n",
    "    regressor = RandomForestClassifier(random_state=0)\n",
    "    params = {'max_depth' : range(1,10)}\n",
    "    scoring_fnc = make_scorer(performance_metric)\n",
    "    grid = GridSearchCV(estimator = regressor, param_grid = params, scoring = scoring_fnc, cv = cv_sets)\n",
    "    grid = grid.fit(X, y)\n",
    "    return grid.best_estimator_\n",
    "\n",
    "clf_rf = fit_model_rf(X_train, y_train)\n",
    "train_acc_rf = clf_rf.score(X_train, y_train)\n",
    "test_acc_rf = clf_rf.score(X_test, y_test)\n",
    "y_pred_rf = clf_rf.predict(X_test)\n",
    "print('train acc: ', train_acc_rf)\n",
    "print('test acc: ', test_acc_rf)\n",
    "print(X_test)\n",
    "print(y_pred_rf)\n",
    "print('R^2 score: ', performance_metric(y_test, y_pred_rf))\n"
   ]
  },
  {
   "cell_type": "code",
   "execution_count": 8,
   "metadata": {},
   "outputs": [
    {
     "name": "stdout",
     "output_type": "stream",
     "text": [
      "[ 1.6         1.6         4.          5.          3.28571429  6.\n",
      "  6.          9.         15.         15.         15.         15.        ]\n"
     ]
    }
   ],
   "source": [
    "X1_test = [[1000,2,64,1,2],\n",
    "           [3000,2,64,1,2],\n",
    "           [5000,2,64,1,2],\n",
    "           [7000,2,64,1,2],\n",
    "           \n",
    "           [1000,4,64,40,80],\n",
    "           [3000,4,64,40,80],\n",
    "           [5000,4,64,40,80],\n",
    "           [7000,4,64,40,80],\n",
    "           \n",
    "           [1000,16,64,1,2],\n",
    "           [3000,16,64,1,2],\n",
    "           [5000,16,64,1,2],\n",
    "           [7000,16,64,1,2]]\n",
    "\n",
    "X1_test = scaler.transform(X1_test)\n",
    "y1_pred = clf_dt.predict(X1_test)\n",
    "\n",
    "print(y1_pred)\n"
   ]
  },
  {
   "cell_type": "code",
   "execution_count": 9,
   "metadata": {},
   "outputs": [
    {
     "name": "stdout",
     "output_type": "stream",
     "text": [
      "The scikit-learn version is 0.18.2.\n"
     ]
    }
   ],
   "source": [
    "import sklearn\n",
    "print('The scikit-learn version is {}.'.format(sklearn.__version__))"
   ]
  },
  {
   "cell_type": "code",
   "execution_count": 10,
   "metadata": {},
   "outputs": [
    {
     "name": "stdout",
     "output_type": "stream",
     "text": [
      "[1.6 1.6 4.  5.  5.  5.  5.  5. ]\n",
      "[1 3 3 5 5 5 5 5]\n"
     ]
    }
   ],
   "source": [
    "X2_test = [[1822,2,64,1,2], # 0.05\n",
    "           [3641,2,64,1,2], # 0.1\n",
    "           [5537,2,64,1,2], # 0.15\n",
    "           [6886,2,64,1,2], # 0.2\n",
    "           [7205,2,64,1,2], # 0.25\n",
    "           [7176,2,64,1,2], # 0.3\n",
    "           [7337,2,64,1,2], # 0.35\n",
    "           [7377,2,64,1,2]] # 0.4\n",
    "\n",
    "X2_test = scaler.transform(X2_test)\n",
    "y2_pred_dt = clf_dt.predict(X2_test)\n",
    "y2_pred_rf = clf_rf.predict(X2_test)\n",
    "\n",
    "print(y2_pred_dt)\n",
    "print(y2_pred_rf)\n"
   ]
  },
  {
   "cell_type": "code",
   "execution_count": 20,
   "metadata": {},
   "outputs": [
    {
     "name": "stdout",
     "output_type": "stream",
     "text": [
      "[3.28571429 6.         6.         9.         9.         9.\n",
      " 9.         9.        ]\n",
      "[3 6 3 9 9 3 9 9]\n"
     ]
    }
   ],
   "source": [
    "X4_test = [[1822,4,64,1,2], # 0.05\n",
    "           [3641,4,64,1,2], # 0.1\n",
    "           [5537,4,64,1,2], # 0.15\n",
    "           [6886,4,64,1,2], # 0.2\n",
    "           [7205,4,64,1,2], # 0.25\n",
    "           [7176,4,64,1,2], # 0.3\n",
    "           [7337,4,64,1,2], # 0.35\n",
    "           [7377,4,64,1,2]] # 0.4\n",
    "\n",
    "X4_test = scaler.transform(X4_test)\n",
    "y4_pred_dt = clf_dt.predict(X4_test)\n",
    "y4_pred_rf = clf_rf.predict(X4_test)\n",
    "\n",
    "print(y4_pred_dt)\n",
    "print(y4_pred_rf)"
   ]
  },
  {
   "cell_type": "code",
   "execution_count": 12,
   "metadata": {},
   "outputs": [
    {
     "name": "stdout",
     "output_type": "stream",
     "text": [
      "[15. 15. 15. 15. 15. 15. 15. 15.]\n",
      "[15 15 15 15 15 15 15 15]\n"
     ]
    }
   ],
   "source": [
    "X16_test = [[1822,16,64,1,2], # 0.05\n",
    "           [3641,16,64,1,2], # 0.1\n",
    "           [5537,16,64,1,2], # 0.15\n",
    "           [6886,16,64,1,2], # 0.2\n",
    "           [7205,16,64,1,2], # 0.25\n",
    "           [7176,16,64,1,2], # 0.3\n",
    "           [7337,16,64,1,2], # 0.35\n",
    "           [7377,16,64,1,2]] # 0.4\n",
    "\n",
    "X16_test = scaler.transform(X16_test)\n",
    "y16_pred_dt = clf_dt.predict(X16_test)\n",
    "y16_pred_rf = clf_rf.predict(X16_test)\n",
    "\n",
    "print(y16_pred_dt)\n",
    "print(y16_pred_rf)"
   ]
  },
  {
   "cell_type": "code",
   "execution_count": 13,
   "metadata": {},
   "outputs": [
    {
     "name": "stdout",
     "output_type": "stream",
     "text": [
      "[1.6 1.6 4.  5.  5.  5.  5.  5. ]\n",
      "[3 2 4 5 5 5 5 5]\n"
     ]
    }
   ],
   "source": [
    "X2_48_test = [[1822,2,64,40,80], # 0.05\n",
    "           [3641,2,64,40,80], # 0.1\n",
    "           [5537,2,64,40,80], # 0.15\n",
    "           [6886,2,64,40,80], # 0.2\n",
    "           [7205,2,64,40,80], # 0.25\n",
    "           [7176,2,64,40,80], # 0.3\n",
    "           [7337,2,64,40,80], # 0.35\n",
    "           [7377,2,64,40,80]] # 0.4\n",
    "\n",
    "X2_48_test = scaler.transform(X2_48_test)\n",
    "y2_48_pred_dt = clf_dt.predict(X2_48_test)\n",
    "y2_48_pred_rf = clf_rf.predict(X2_48_test)\n",
    "\n",
    "print(y2_48_pred_dt)\n",
    "print(y2_48_pred_rf)"
   ]
  },
  {
   "cell_type": "code",
   "execution_count": 14,
   "metadata": {},
   "outputs": [
    {
     "name": "stdout",
     "output_type": "stream",
     "text": [
      "[3.28571429 6.         6.         9.         9.         9.\n",
      " 9.         9.        ]\n",
      "[3 6 9 9 9 9 9 9]\n"
     ]
    }
   ],
   "source": [
    "X4_48_test = [[1822,4,64,40,80], # 0.05\n",
    "           [3641,4,64,40,80], # 0.1\n",
    "           [5537,4,64,40,80], # 0.15\n",
    "           [6886,4,64,40,80], # 0.2\n",
    "           [7205,4,64,40,80], # 0.25\n",
    "           [7176,4,64,40,80], # 0.3\n",
    "           [7337,4,64,40,80], # 0.35\n",
    "           [7377,4,64,40,80]] # 0.4\n",
    "\n",
    "X4_48_test = scaler.transform(X4_48_test)\n",
    "y4_48_pred_dt = clf_dt.predict(X4_48_test)\n",
    "y4_48_pred_rf = clf_rf.predict(X4_48_test)\n",
    "\n",
    "print(y4_48_pred_dt)\n",
    "print(y4_48_pred_rf)"
   ]
  },
  {
   "cell_type": "code",
   "execution_count": 15,
   "metadata": {},
   "outputs": [
    {
     "name": "stdout",
     "output_type": "stream",
     "text": [
      "[15. 15. 15. 15. 15. 15. 15. 15.]\n",
      "[15 15 15 15 15 15 15 15]\n"
     ]
    }
   ],
   "source": [
    "X16_48_test = [[1822,16,64,40,80], # 0.05\n",
    "           [3641,16,64,40,80], # 0.1\n",
    "           [5537,16,64,40,80], # 0.15\n",
    "           [6886,16,64,40,80], # 0.2\n",
    "           [7205,16,64,40,80], # 0.25\n",
    "           [7176,16,64,40,80], # 0.3\n",
    "           [7337,16,64,40,80], # 0.35\n",
    "           [7377,16,64,40,80]] # 0.4\n",
    "\n",
    "X16_48_test = scaler.transform(X16_48_test)\n",
    "y16_48_pred_dt = clf_dt.predict(X16_48_test)\n",
    "y16_48_pred_rf = clf_rf.predict(X16_48_test)\n",
    "\n",
    "print(y16_48_pred_dt)\n",
    "print(y16_48_pred_rf)"
   ]
  },
  {
   "cell_type": "code",
   "execution_count": 16,
   "metadata": {},
   "outputs": [
    {
     "name": "stdout",
     "output_type": "stream",
     "text": [
      "[1.6 1.6 1.6 1.6 1.6 1.6 1.6 1.6]\n",
      "[3 1 1 1 1 1 1 1]\n"
     ]
    }
   ],
   "source": [
    "X2_sp_test = [[807,2,64,1,2], # fmm\n",
    "           [719,2,64,1,2], # choles\n",
    "           [593,2,64,1,2], # lucont\n",
    "           [321,2,64,1,2], # ocean\n",
    "           [1054,2,64,1,2], # radix\n",
    "           [481,2,64,1,2], # raytrace\n",
    "           [351,2,64,1,2], # watersp\n",
    "           [559,2,64,1,2]] # waterns\n",
    "\n",
    "X2_sp_test = scaler.transform(X2_sp_test)\n",
    "y2_sp_pred_dt = clf_dt.predict(X2_sp_test)\n",
    "y2_sp_pred_rf = clf_rf.predict(X2_sp_test)\n",
    "\n",
    "print(y2_sp_pred_dt)\n",
    "print(y2_sp_pred_rf)"
   ]
  },
  {
   "cell_type": "code",
   "execution_count": 19,
   "metadata": {},
   "outputs": [
    {
     "name": "stdout",
     "output_type": "stream",
     "text": [
      "[3.28571429 3.28571429 3.28571429 3.28571429 3.28571429 3.28571429\n",
      " 3.28571429 3.28571429]\n",
      "[5 3 3 3 3 3 3 3]\n"
     ]
    }
   ],
   "source": [
    "X4_sp_test = [[807,4,64,1,2], # fmm\n",
    "           [719,4,64,1,2], # choles\n",
    "           [593,4,64,1,2], # lucont\n",
    "           [321,4,64,1,2], # ocean\n",
    "           [1054,4,64,1,2], # radix\n",
    "           [481,4,64,1,2], # raytrace\n",
    "           [351,4,64,1,2], # watersp\n",
    "           [559,4,64,1,2]] # waterns\n",
    "\n",
    "X4_sp_test = scaler.transform(X4_sp_test)\n",
    "y4_sp_pred_dt = clf_dt.predict(X4_sp_test)\n",
    "y4_sp_pred_rf = clf_rf.predict(X4_sp_test)\n",
    "\n",
    "print(y4_sp_pred_dt)\n",
    "print(y4_sp_pred_rf)"
   ]
  },
  {
   "cell_type": "code",
   "execution_count": 21,
   "metadata": {},
   "outputs": [
    {
     "name": "stdout",
     "output_type": "stream",
     "text": [
      "[15. 15. 15. 15. 15. 15. 15. 15.]\n",
      "[15 15 15 15 15 15 15 15]\n"
     ]
    }
   ],
   "source": [
    "X16_sp_test = [[807,16,64,1,2], # fmm\n",
    "           [719,16,64,1,2], # choles\n",
    "           [593,16,64,1,2], # lucont\n",
    "           [321,16,64,1,2], # ocean\n",
    "           [1054,16,64,1,2], # radix\n",
    "           [481,16,64,1,2], # raytrace\n",
    "           [351,16,64,1,2], # watersp\n",
    "           [559,16,64,1,2]] # waterns\n",
    "\n",
    "X16_sp_test = scaler.transform(X16_sp_test)\n",
    "y16_sp_pred_dt = clf_dt.predict(X16_sp_test)\n",
    "y16_sp_pred_rf = clf_rf.predict(X16_sp_test)\n",
    "\n",
    "print(y16_sp_pred_dt)\n",
    "print(y16_sp_pred_rf)"
   ]
  },
  {
   "cell_type": "code",
   "execution_count": null,
   "metadata": {
    "collapsed": true
   },
   "outputs": [],
   "source": []
  }
 ],
 "metadata": {
  "kernelspec": {
   "display_name": "Python 3",
   "language": "python",
   "name": "python3"
  },
  "language_info": {
   "codemirror_mode": {
    "name": "ipython",
    "version": 3
   },
   "file_extension": ".py",
   "mimetype": "text/x-python",
   "name": "python",
   "nbconvert_exporter": "python",
   "pygments_lexer": "ipython3",
   "version": "3.7.1"
  },
  "toc": {
   "base_numbering": 1,
   "nav_menu": {},
   "number_sections": true,
   "sideBar": true,
   "skip_h1_title": false,
   "title_cell": "Table of Contents",
   "title_sidebar": "Contents",
   "toc_cell": false,
   "toc_position": {},
   "toc_section_display": true,
   "toc_window_display": false
  },
  "widgets": {
   "state": {},
   "version": "1.1.2"
  }
 },
 "nbformat": 4,
 "nbformat_minor": 2
}
